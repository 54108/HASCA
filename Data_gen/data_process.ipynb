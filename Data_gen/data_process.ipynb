{
 "cells": [
  {
   "cell_type": "markdown",
   "metadata": {},
   "source": [
    "# 数据处理"
   ]
  },
  {
   "cell_type": "markdown",
   "metadata": {},
   "source": [
    "## 转为numpy数组"
   ]
  },
  {
   "cell_type": "code",
   "execution_count": 3,
   "metadata": {},
   "outputs": [
    {
     "name": "stdout",
     "output_type": "stream",
     "text": [
      "Processing train Bag\n",
      "Processing train Hand\n",
      "Processing train Hips\n",
      "Processing train Torso\n",
      "Processing val Bag\n",
      "Processing val Hand\n",
      "Processing val Hips\n",
      "Processing val Torso\n",
      "Processing test\n",
      "100%|█████████████████████████████████████████████| 9/9 [00:08<00:00,  1.04it/s]\n",
      "100%|█████████████████████████████████████████████| 9/9 [00:11<00:00,  1.24s/it]\n",
      "100%|█████████████████████████████████████████████| 9/9 [00:11<00:00,  1.31s/it]\n",
      "100%|█████████████████████████████████████████████| 9/9 [00:12<00:00,  1.34s/it]\n",
      "100%|█████████████████████████████████████████████| 9/9 [00:29<00:00,  3.26s/it]\n",
      "100%|█████████████████████████████████████████████| 9/9 [01:40<00:00, 11.18s/it]\n",
      "100%|█████████████████████████████████████████████| 9/9 [01:42<00:00, 11.37s/it]\n",
      "100%|█████████████████████████████████████████████| 9/9 [01:48<00:00, 12.02s/it]\n",
      "100%|█████████████████████████████████████████████| 9/9 [01:55<00:00, 12.79s/it]\n"
     ]
    }
   ],
   "source": [
    "!python data_gen.py"
   ]
  },
  {
   "cell_type": "markdown",
   "metadata": {},
   "source": [
    "## 傅里叶变换到频域"
   ]
  },
  {
   "cell_type": "code",
   "execution_count": 1,
   "metadata": {},
   "outputs": [
    {
     "name": "stdout",
     "output_type": "stream",
     "text": [
      "100%|███████████████████████████████████| 28789/28789 [00:04<00:00, 6326.24it/s]\n",
      "100%|███████████████████████████████████| 28789/28789 [00:08<00:00, 3205.03it/s]\n",
      "100%|███████████████████████████████████| 28789/28789 [00:10<00:00, 2757.89it/s]\n",
      "100%|███████████████████████████████████| 28789/28789 [00:10<00:00, 2693.12it/s]\n",
      "100%|███████████████████████████████████| 92726/92726 [00:27<00:00, 3367.34it/s]\n",
      "100%|███████████████████████████████████| 92726/92726 [00:27<00:00, 3367.65it/s]\n",
      "100%|███████████████████████████████████| 92726/92726 [00:27<00:00, 3367.36it/s]\n",
      "100%|███████████████████████████████████| 92726/92726 [00:27<00:00, 3367.27it/s]\n",
      "100%|█████████████████████████████████| 196072/196072 [00:55<00:00, 3531.91it/s]\n",
      "100%|█████████████████████████████████| 196072/196072 [00:55<00:00, 3514.00it/s]\n",
      "100%|█████████████████████████████████| 196072/196072 [00:56<00:00, 3489.12it/s]\n",
      "100%|█████████████████████████████████| 196072/196072 [00:56<00:00, 3480.30it/s]\n"
     ]
    }
   ],
   "source": [
    "!python rfft_gen.py"
   ]
  },
  {
   "cell_type": "markdown",
   "metadata": {},
   "source": [
    "使用cufft进行加速"
   ]
  },
  {
   "cell_type": "code",
   "execution_count": 11,
   "metadata": {},
   "outputs": [
    {
     "name": "stdout",
     "output_type": "stream",
     "text": [
      "WARNING: CPU IP/backtrace sampling not supported, disabling.\n",
      "Try the 'nsys status --environment' command to learn more.\n",
      "\n",
      "WARNING: CPU context switch tracing not supported, disabling.\n",
      "Try the 'nsys status --environment' command to learn more.\n",
      "\n",
      "Using chunk size: 37349\n",
      "100%|██████████| 6/6 [00:19<00:00,  3.18s/it]\n",
      "Using chunk size: 23281\n",
      "100%|██████████| 9/9 [00:22<00:00,  2.45s/it]\n",
      "Using chunk size: 8271\n",
      "100%|██████████| 24/24 [00:19<00:00,  1.21it/s]\n",
      "Using chunk size: 7960\n",
      "100%|██████████| 25/25 [00:20<00:00,  1.20it/s]\n",
      "Using chunk size: 4455\n",
      "100%|██████████| 7/7 [00:02<00:00,  2.48it/s]\n",
      "Using chunk size: 5300\n",
      "100%|██████████| 6/6 [00:02<00:00,  2.40it/s]\n",
      "Using chunk size: 4416\n",
      "100%|██████████| 7/7 [00:02<00:00,  2.62it/s]\n",
      "Using chunk size: 2911\n",
      "100%|██████████| 10/10 [00:02<00:00,  4.62it/s]\n",
      "Using chunk size: 1552\n",
      "100%|██████████| 60/60 [00:09<00:00,  6.28it/s]\n",
      "Using chunk size: 8222\n",
      "100%|██████████| 12/12 [00:01<00:00,  7.39it/s]\n",
      "Using chunk size: 16523\n",
      "100%|██████████| 6/6 [00:02<00:00,  2.97it/s]\n",
      "Using chunk size: 10387\n",
      "100%|██████████| 9/9 [00:01<00:00,  5.25it/s]\n",
      "Generating '/tmp/nsys-report-3291.qdstrm'\n",
      "[1/1] [========================100%] report4.nsys-rep\n",
      "Generated:\n",
      "    /home/pdch/workspace/HASCA/Data_gen/report4.nsys-rep\n"
     ]
    }
   ],
   "source": [
    "!nsys profile python rfft_gen.py --cupy"
   ]
  }
 ],
 "metadata": {
  "kernelspec": {
   "display_name": "base",
   "language": "python",
   "name": "python3"
  },
  "language_info": {
   "codemirror_mode": {
    "name": "ipython",
    "version": 3
   },
   "file_extension": ".py",
   "mimetype": "text/x-python",
   "name": "python",
   "nbconvert_exporter": "python",
   "pygments_lexer": "ipython3",
   "version": "3.12.2"
  }
 },
 "nbformat": 4,
 "nbformat_minor": 2
}
